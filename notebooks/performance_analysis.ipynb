{
 "cells": [
  {
   "cell_type": "markdown",
   "metadata": {},
   "source": [
    "# Performance Analysis\n",
    "\n",
    "This notebook analyzes the performance metrics collected during load testing and backtesting.\n",
    "- Load k6 results and backtest results\n",
    "- Visualize latency distribution and throughput\n",
    "- Compare PnL across models"
   ]
  },
  {
   "cell_type": "code",
   "execution_count": null,
   "metadata": {},
   "outputs": [],
   "source": [
    "# Imports\n",
    "import pandas as pd\n",
    "import matplotlib.pyplot as plt\n",
    "\n",
    "# Load k6 results (assumes CSV export)\n",
    "k6_df = pd.read_csv('load_test/k6_results.csv')\n",
    "backtest_tf = pd.read_csv('backtest/tf_backtest.csv')\n",
    "backtest_rl = pd.read_csv('backtest/torch_backtest.csv')\n"
   ]
  },
  {
   "cell_type": "code",
   "execution_count": null,
   "metadata": {},
   "outputs": [],
   "source": [
    "# Latency histogram\n",
    "plt.hist(k6_df['http_req_duration'], bins=50)\n",
    "plt.title('HTTP Request Duration Distribution')\n",
    "plt.xlabel('Duration (ms)')\n",
    "plt.ylabel('Count')\n",
    "plt.show()"
   ]
  },
  {
   "cell_type": "code",
   "execution_count": null,
   "metadata": {},
   "outputs": [],
   "source": [
    "# Throughput over time\n",
    "k6_df.set_index('timeStamp', inplace=True)\n",
    "k6_df['throughput'].plot()\n",
    "plt.title('Requests per Second')\n",
    "plt.ylabel('RPS')\n",
    "plt.show()"
   ]
  },
  {
   "cell_type": "code",
   "execution_count": null,
   "metadata": {},
   "outputs": [],
   "source": [
    "# Backtest PnL comparison\n",
    "plt.plot(backtest_tf['end'], backtest_tf['pnl'], label='TF LSTM')\n",
    "plt.plot(backtest_rl['end'], backtest_rl['pnl'], label='PyTorch DQN')\n",
    "plt.legend()\n",
    "plt.title('Backtest PnL Over Time')\n",
    "plt.xlabel('Date')\n",
    "plt.ylabel('PnL')\n",
    "plt.show()"
   ]
  }
 ],
 "metadata": {
  "kernelspec": {
   "display_name": "Python 3",
   "language": "python",
   "name": "python3"
  },
  "language_info": {
   "name": "python",
   "version": "3.9"
  }
 },
 "nbformat": 4,
 "nbformat_minor": 5
}


git add notebooks/performance_analysis.ipynb
git commit -m "Add performance analysis notebook for load test and backtest metrics"
git push
