{
 "cells": [
  {
   "cell_type": "markdown",
   "metadata": {},
   "source": [
    "# Exploration & EDA\n",
    "\n",
    "This notebook performs initial exploratory data analysis for the AlgoQuant Backtester & Signal Engine project.\n",
    "- Load raw data\n",
    "- Visualize price series\n",
    "- Compute basic statistics\n",
    "- Preview technical indicators\n"
   ]
  },
  {
   "cell_type": "code",
   "execution_count": null,
   "metadata": {},
   "outputs": [],
   "source": [
    "# Import libraries\n",
    "import pandas as pd\n",
    "import matplotlib.pyplot as plt\n",
    "\n",
    "# Load raw data\n",
    "df = pd.read_parquet('data/raw/spy.parquet')\n",
    "df['timestamp'] = pd.to_datetime(df['timestamp'])\n",
    "df.set_index('timestamp', inplace=True)\n",
    "df.head()"
   ]
  },
  {
   "cell_type": "code",
   "execution_count": null,
   "metadata": {},
   "outputs": [],
   "source": [
    "# Plot closing price\n",
    "plt.figure(figsize=(12, 6))\n",
    "plt.plot(df['close'], label='Close')\n",
    "plt.title('SPY Closing Price')\n",
    "plt.xlabel('Date')\n",
    "plt.ylabel('Price')\n",
    "plt.legend()\n",
    "plt.show()"
   ]
  },
  {
   "cell_type": "code",
   "execution_count": null,
   "metadata": {},
   "outputs": [],
   "source": [
    "# Compute and preview technical indicators\n",
    "import ta\n",
    "df['sma_20'] = ta.trend.sma_indicator(df['close'], window=20)\n",
    "df[['close','sma_20']].dropna().head()"
   ]
  }
 ],
 "metadata": {
  "kernelspec": {
   "display_name": "Python 3",
   "language": "python",
   "name": "python3"
  },
  "language_info": {
   "name": "python",
   "version": "3.9"
  }
 },
 "nbformat": 4,
 "nbformat_minor": 5
}

git add notebooks/exploration.ipynb
git commit -m "Add exploration Jupyter notebook scaffold"
git push
